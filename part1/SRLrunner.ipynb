{
 "cells": [
  {
   "cell_type": "markdown",
   "metadata": {},
   "source": [
    "# SRL runner\n",
    "\n",
    "This script \n",
    "\n",
    "*Input:*  \n",
    "- executionMode_dict\n",
    "- mode               -> ('production' / 'sample')\n",
    "- model              -> ('train' / 'test')\n",
    "- print_status       -> (True / False)\n",
    "\n",
    "*Output:* \n",
    "- executionMode_dict \n",
    "- tbc"
   ]
  },
  {
   "cell_type": "markdown",
   "metadata": {},
   "source": [
    "## Setup\n",
    "\n",
    "### Imports\n",
    "#### General imports\n"
   ]
  },
  {
   "cell_type": "markdown",
   "metadata": {},
   "source": [
    "#### Script imports"
   ]
  },
  {
   "cell_type": "code",
   "execution_count": null,
   "metadata": {},
   "outputs": [],
   "source": [
    "%run 1_DataImport.ipynb\n",
    "%run 2_PredicatePrediction.ipynb\n",
    "%run 3_DataframeConversion.ipynb"
   ]
  },
  {
   "cell_type": "markdown",
   "metadata": {},
   "source": [
    "## Variables Taken from Main\n",
    "-> will be handed over\n",
    "\n",
    "\n"
   ]
  },
  {
   "cell_type": "code",
   "execution_count": null,
   "metadata": {},
   "outputs": [],
   "source": [
    "# dictionary with meta information\n",
    "\n",
    "'''\n",
    "\n",
    "Dictionary to carry all the relevant information for \n",
    "    - input, \n",
    "    - intermediate, and \n",
    "    - output files including their paths\n",
    "    \n",
    "    \n",
    "Possible execution modes:\n",
    "    - 'production'\n",
    "    - 'sample'\n",
    "    - 'custom'\n",
    "    \n",
    "'''\n",
    "\n",
    "executionMode_dict = {\n",
    "    'production' : {\n",
    "        'input' : {\n",
    "            'train' : '../data/input/en_ewt-up-train.conllu',\n",
    "            'test'  : '../data/input/en_ewt-up-test.conllu'\n",
    "        },\n",
    "        'intermediate': {\n",
    "            \n",
    "        },\n",
    "        'output': {\n",
    "            \n",
    "        }\n",
    "    },\n",
    "    'sample' : {\n",
    "        'input' : {\n",
    "            'train' : '../data/input/srl_univprop_en.example.conll',\n",
    "            'test'  : '../data/input/en_ewt-up-test.conllu'\n",
    "        },\n",
    "        'intermediate': {\n",
    "            \n",
    "        },\n",
    "        'output': {\n",
    "            \n",
    "        }\n",
    "    } \n",
    "}\n",
    "\n",
    "# use these parameters for now\n",
    "mode  = 'sample'\n",
    "model = 'train'\n",
    "print_status = True\n",
    "\n",
    "\n",
    "#shows\n",
    "executionMode_dict"
   ]
  },
  {
   "cell_type": "markdown",
   "metadata": {},
   "source": [
    "## Pipeline\n"
   ]
  },
  {
   "cell_type": "code",
   "execution_count": null,
   "metadata": {},
   "outputs": [],
   "source": [
    "# wrap everything in the following function\n",
    "\n",
    "#def runSRL(executionMode_dict):   \n",
    "#    return executionMode_dict\n",
    "\n",
    "\n"
   ]
  },
  {
   "cell_type": "code",
   "execution_count": null,
   "metadata": {},
   "outputs": [],
   "source": [
    "\n",
    "executionMode_dict = createDataFrame(executionMode_dict, \n",
    "                                     mode  = mode,\n",
    "                                     model = model,\n",
    "                                     print_status = print_status)\n",
    "\n",
    "executionMode_dict = predictPredicates(executionMode_dict, \n",
    "                                       mode  = mode,\n",
    "                                       model = model,\n",
    "                                       print_status = print_status)\n",
    "\n",
    "\n",
    "executionMode_dict = convertDataframe(executionMode_dict, \n",
    "                                      mode  = mode,\n",
    "                                      model = model,\n",
    "                                      print_status = print_status)\n",
    "\n",
    "\n"
   ]
  },
  {
   "cell_type": "code",
   "execution_count": null,
   "metadata": {},
   "outputs": [],
   "source": []
  }
 ],
 "metadata": {
  "kernelspec": {
   "display_name": "Python 3",
   "language": "python",
   "name": "python3"
  },
  "language_info": {
   "codemirror_mode": {
    "name": "ipython",
    "version": 3
   },
   "file_extension": ".py",
   "mimetype": "text/x-python",
   "name": "python",
   "nbconvert_exporter": "python",
   "pygments_lexer": "ipython3",
   "version": "3.6.10"
  }
 },
 "nbformat": 4,
 "nbformat_minor": 4
}
