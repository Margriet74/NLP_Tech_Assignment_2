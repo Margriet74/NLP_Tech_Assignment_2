{
 "cells": [
  {
   "cell_type": "markdown",
   "metadata": {},
   "source": [
    "# 4 Feature Extraction\n",
    "\n",
    "This script provides a function that extracts features <br>\n",
    "\n",
    "\n",
    "*Input:*  \n",
    "- executionMode_dict\n",
    "- mode               -> ('production' / 'sample')\n",
    "- model              -> ('train' / 'test')\n",
    "- print_status       -> (True / False)\n",
    "- sentence_limit = None  (limit of sentences to import (default: None)\n",
    "\n",
    "*Output:* \n",
    "- executionMode_dict \n",
    "\n",
    "\n",
    "*List of additionally extracted features:* \n",
    "- Constituents\n",
    "- Active / Passive \n",
    "- ..\n",
    "\n",
    "\n",
    "\n",
    "\n"
   ]
  },
  {
   "cell_type": "markdown",
   "metadata": {},
   "source": [
    "## Preparation"
   ]
  },
  {
   "cell_type": "code",
   "execution_count": null,
   "metadata": {},
   "outputs": [],
   "source": [
    "import pandas as pd"
   ]
  },
  {
   "cell_type": "markdown",
   "metadata": {},
   "source": [
    "## Reading data in"
   ]
  },
  {
   "cell_type": "code",
   "execution_count": null,
   "metadata": {},
   "outputs": [],
   "source": [
    "def extractFeatures(executionMode_dict,\n",
    "                    mode,                   #('production' / 'sample')\n",
    "                    model,                  #('train' / 'test')\n",
    "                    print_status   = False,\n",
    "                    sentence_limit = None):\n",
    "    \n",
    "\n",
    "    path_to_input = executionMode_dict[mode]['intermediate'][model]['03_convertedDataframe']\n",
    "    path_to_save = '../data/intermediate/' + mode + '_' + model +'_04_ExtractedFeatures.csv'\n",
    "    executionMode_dict[mode]['intermediate'][model]['04_FeaturesExtracted'] = path_to_save\n",
    "    \n",
    "    # read dataframe in\n",
    "    df = pd.read_csv(path_to_input)\n",
    "    \n",
    "    display(df.head(5))\n",
    "    \n",
    "    \n",
    "    \n",
    "    ## insert here\n",
    "    \n",
    "    \n",
    "    \n",
    "    \n",
    "    \n",
    "    \n",
    "    \n",
    "    \n",
    "    \n",
    "    \n",
    "    \n",
    "    \n",
    "    #write dataframe out\n",
    "    df.to_csv(path_to_save, index=False)\n",
    "    \n",
    "    \n",
    "    if print_status == True:\n",
    "        \n",
    "        print('\\n\\n#### 4 Feature Extraction ####\\n\\n')\n",
    "        \n",
    "        print(' Features extracted:')\n",
    "        #list features\n",
    "        print(' - Constituents')\n",
    "        print(' - Passive / Active')\n",
    "        print(' - ...')\n",
    "        print('\\n - completed')\n",
    "    \n",
    "    return executionMode_dict"
   ]
  }
 ],
 "metadata": {
  "kernelspec": {
   "display_name": "Python 3",
   "language": "python",
   "name": "python3"
  },
  "language_info": {
   "codemirror_mode": {
    "name": "ipython",
    "version": 3
   },
   "file_extension": ".py",
   "mimetype": "text/x-python",
   "name": "python",
   "nbconvert_exporter": "python",
   "pygments_lexer": "ipython3",
   "version": "3.6.10"
  }
 },
 "nbformat": 4,
 "nbformat_minor": 4
}
