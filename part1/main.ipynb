{
 "cells": [
  {
   "cell_type": "markdown",
   "metadata": {},
   "source": [
    "# Main Script\n",
    "# NLP Technology - Assignment 2, Part 1\n"
   ]
  },
  {
   "cell_type": "markdown",
   "metadata": {},
   "source": [
    "## Setup"
   ]
  },
  {
   "cell_type": "markdown",
   "metadata": {},
   "source": [
    "### Imports\n",
    "#### General imports"
   ]
  },
  {
   "cell_type": "markdown",
   "metadata": {},
   "source": [
    "#### Imports of other scripts\n",
    "\n",
    "Change to python scripts when less amendmends needed!\n",
    "-> new format will be e.g. from 1_DataImportAndConversion.ipynb import *\n"
   ]
  },
  {
   "cell_type": "code",
   "execution_count": null,
   "metadata": {},
   "outputs": [],
   "source": []
  },
  {
   "cell_type": "code",
   "execution_count": 1,
   "metadata": {},
   "outputs": [],
   "source": [
    "# \n",
    "#%run DataExploration.ipynb\n",
    "%run 1_DataImportAndConversion.ipynb\n",
    "#SRLrunner"
   ]
  },
  {
   "cell_type": "markdown",
   "metadata": {},
   "source": [
    "### Setting variable"
   ]
  },
  {
   "cell_type": "code",
   "execution_count": 2,
   "metadata": {},
   "outputs": [
    {
     "data": {
      "text/plain": [
       "{'production': {'input': {'train': '../data/input/en_ewt-up-train.conllu',\n",
       "   'test': '../data/input/en_ewt-up-test.conllu'},\n",
       "  'intermediate': {},\n",
       "  'output': {}},\n",
       " 'sample': {'input': {'train': '../data/input/srl_univprop_en.example.conll',\n",
       "   'test': '../data/input/en_ewt-up-test.conllu'},\n",
       "  'intermediate': {},\n",
       "  'output': {}}}"
      ]
     },
     "execution_count": 2,
     "metadata": {},
     "output_type": "execute_result"
    }
   ],
   "source": [
    "# dictionary with meta information\n",
    "\n",
    "'''\n",
    "\n",
    "Dictionary to carry all the relevant information for \n",
    "    - input, \n",
    "    - intermediate, and \n",
    "    - output files including their paths\n",
    "    \n",
    "    \n",
    "Possible execution modes:\n",
    "    - 'production'\n",
    "    - 'sample'\n",
    "    - 'custom'\n",
    "    \n",
    "'''\n",
    "\n",
    "executionMode_dict = {\n",
    "    'production' : {\n",
    "        'input' : {\n",
    "            'train' : '../data/input/en_ewt-up-train.conllu',\n",
    "            'test'  : '../data/input/en_ewt-up-test.conllu'\n",
    "        },\n",
    "        'intermediate': {\n",
    "            \n",
    "        },\n",
    "        'output': {\n",
    "            \n",
    "        }\n",
    "    },\n",
    "    'sample' : {\n",
    "        'input' : {\n",
    "            'train' : '../data/input/srl_univprop_en.example.conll',\n",
    "            'test'  : '../data/input/en_ewt-up-test.conllu'\n",
    "        },\n",
    "        'intermediate': {\n",
    "            \n",
    "        },\n",
    "        'output': {\n",
    "            \n",
    "        }\n",
    "    } \n",
    "}\n",
    "\n",
    "\n",
    "\n",
    "executionMode_dict"
   ]
  },
  {
   "cell_type": "code",
   "execution_count": 3,
   "metadata": {},
   "outputs": [],
   "source": [
    "#path_example = '../data/input/srl_univprop_en.example.conll'\n",
    "\n",
    "#path_train   = '../data/input/en_ewt-up-train.conllu' \n",
    "#path_test    = '../data/input/en_ewt-up-test.conllu'\n",
    "#path_dev     = '../data/input/en_ewt-up-dev.conllu'"
   ]
  },
  {
   "cell_type": "markdown",
   "metadata": {},
   "source": []
  },
  {
   "cell_type": "markdown",
   "metadata": {},
   "source": [
    "## Training\n",
    "\n",
    "Call runSRL function on training dataset to train model \n",
    "-> use training = True\n",
    "\n"
   ]
  },
  {
   "cell_type": "code",
   "execution_count": null,
   "metadata": {},
   "outputs": [],
   "source": [
    "'''\n",
    "runSRL(executionMode_dict = executionMode_dict, \n",
    "       mode = 'sample', \n",
    "       model = 'train', \n",
    "       print_status = False)\n",
    "'''\n"
   ]
  },
  {
   "cell_type": "markdown",
   "metadata": {},
   "source": [
    "## Testing\n",
    "Call runSRL function on test dataset to evaluate model \n"
   ]
  },
  {
   "cell_type": "code",
   "execution_count": null,
   "metadata": {},
   "outputs": [],
   "source": [
    "'''\n",
    "runSRL(executionMode_dict = executionMode_dict, \n",
    "       mode = 'sample', \n",
    "       model = 'test',\n",
    "       print_status = False)\n",
    "'''\n",
    "\n"
   ]
  },
  {
   "cell_type": "markdown",
   "metadata": {},
   "source": [
    "## Evaluation"
   ]
  },
  {
   "cell_type": "code",
   "execution_count": null,
   "metadata": {},
   "outputs": [],
   "source": []
  }
 ],
 "metadata": {
  "kernelspec": {
   "display_name": "Python 3",
   "language": "python",
   "name": "python3"
  },
  "language_info": {
   "codemirror_mode": {
    "name": "ipython",
    "version": 3
   },
   "file_extension": ".py",
   "mimetype": "text/x-python",
   "name": "python",
   "nbconvert_exporter": "python",
   "pygments_lexer": "ipython3",
   "version": "3.6.10"
  }
 },
 "nbformat": 4,
 "nbformat_minor": 4
}
